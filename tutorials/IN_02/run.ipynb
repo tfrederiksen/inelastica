{
 "cells": [
  {
   "cell_type": "markdown",
   "metadata": {},
   "source": [
    "# Generation of transmission eigenchannels and plots of these using cube #"
   ]
  },
  {
   "cell_type": "code",
   "execution_count": null,
   "metadata": {},
   "outputs": [],
   "source": [
    "import numpy as np\n",
    "import matplotlib.pyplot as plt\n",
    "import sisl\n",
    "import glob as glob"
   ]
  },
  {
   "cell_type": "markdown",
   "metadata": {},
   "source": [
    "## 0. Preparations ##"
   ]
  },
  {
   "cell_type": "code",
   "execution_count": null,
   "metadata": {},
   "outputs": [],
   "source": [
    "import py3Dmol\n",
    "\n",
    "def PlotXYZ(xyzfile, width=800, height=200, rotation=90, zoom=1):\n",
    "    xyzstr = open(xyzfile, 'r').read()\n",
    "    xyzview = py3Dmol.view(width=width, height=height)\n",
    "    xyzview.addModel(xyzstr, 'xyz')\n",
    "    xyzview.setStyle({'sphere': {'colorscheme': 'Jmol', 'scale': 0.3},\n",
    "                      'stick': {'colorscheme': 'Jmol', 'radius': 0.2}})\n",
    "    xyzview.rotate(rotation)\n",
    "    xyzview.zoomTo()\n",
    "    xyzview.zoom(zoom)\n",
    "    xyzview.show()\n",
    "    \n",
    "def PlotCube(cubefiles, isoval, width=800, height=200, rotation=90, zoom=1):\n",
    "    if not isinstance(cubefiles, list):\n",
    "        cubefiles = [cubefiles]\n",
    "    geom = sisl.get_sile(cubefiles[0]).read_geometry()\n",
    "    geom.write('tmp.xyz')\n",
    "    xyzstr = open('tmp.xyz', 'r').read()\n",
    "    xyzview = py3Dmol.view(width=width, height=height)\n",
    "    xyzview.addModel(xyzstr, 'xyz')\n",
    "    xyzview.setStyle({'sphere': {'colorscheme': 'Jmol', 'scale': 0.3},\n",
    "                      'stick': {'colorscheme': 'Jmol', 'radius': 0.2}})\n",
    "    color = [\"red\", \"blue\", \"green\", \"yellow\"]\n",
    "    for i, cube in enumerate(cubefiles):\n",
    "        voldata = 'some line which is needed' + open(cube, 'r').read()\n",
    "        xyzview.addVolumetricData(voldata, 'cube', \n",
    "                                  {'isoval': -isoval, 'color': color[2 * i % len(color)], 'opacity': 0.8})\n",
    "        xyzview.addVolumetricData(voldata, 'cube',\n",
    "                                  {'isoval': isoval, 'color': color[(2 * i + 1) % len(color)], 'opacity': 0.8})\n",
    "    xyzview.rotate(rotation)\n",
    "    xyzview.zoomTo()\n",
    "    xyzview.zoom(zoom)\n",
    "    xyzview.show()"
   ]
  },
  {
   "cell_type": "markdown",
   "metadata": {},
   "source": [
    "## 1. System setup ##"
   ]
  },
  {
   "cell_type": "markdown",
   "metadata": {},
   "source": [
    "We will use the tutorial `IN_01` on inelastic transport with a CO between Au chains:"
   ]
  },
  {
   "cell_type": "code",
   "execution_count": null,
   "metadata": {},
   "outputs": [],
   "source": [
    "RUNdir = '../IN_01'\n",
    "Device = RUNdir + '/TSrun/RUN.fdf'\n",
    "ElecL = RUNdir + '/ELEC/RUN.fdf'\n",
    "ElecR = ElecL"
   ]
  },
  {
   "cell_type": "code",
   "execution_count": null,
   "metadata": {},
   "outputs": [],
   "source": [
    "Ham = sisl.get_sile(Device).read_hamiltonian()\n",
    "no = Ham.no\n",
    "sc = Ham.sc\n",
    "Ham.set_nsc(c=1) # remove periodic boundaries along transport direction (\"C\" or z)"
   ]
  },
  {
   "cell_type": "markdown",
   "metadata": {},
   "source": [
    "Pick an energy"
   ]
  },
  {
   "cell_type": "code",
   "execution_count": null,
   "metadata": {},
   "outputs": [],
   "source": [
    "eta = 1e-6j # imaginary part in device and electrodes\n",
    "En = -0.13 + eta"
   ]
  },
  {
   "cell_type": "markdown",
   "metadata": {},
   "source": [
    "We use `sisl` to generate left and right self-energies"
   ]
  },
  {
   "cell_type": "code",
   "execution_count": null,
   "metadata": {},
   "outputs": [],
   "source": [
    "HamL = sisl.get_sile(ElecL).read_hamiltonian()\n",
    "SFEL = sisl.RecursiveSI(HamL, \"-C\", eta=eta).self_energy(En)\n",
    "GamL = 1j * (SFEL - SFEL.T.conj())\n",
    "nL = len(GamL)\n",
    "iL = slice(0,nL)"
   ]
  },
  {
   "cell_type": "code",
   "execution_count": null,
   "metadata": {},
   "outputs": [],
   "source": [
    "HamR = sisl.get_sile(ElecR).read_hamiltonian()\n",
    "SFER = sisl.RecursiveSI(HamR, \"+C\", eta=eta).self_energy(En)\n",
    "GamR = 1j * (SFER - SFER.T.conj())\n",
    "nR = len(GamR)\n",
    "iR = slice(no - nR, no)"
   ]
  },
  {
   "cell_type": "markdown",
   "metadata": {},
   "source": [
    "Here we set up the the inverse GF and invert it: Note the `UseBulk` option (similar option can be found in `tbtrans` and `transiesta`)"
   ]
  },
  {
   "cell_type": "code",
   "execution_count": null,
   "metadata": {},
   "outputs": [],
   "source": [
    "# Calculate GF\n",
    "UseBulk = True\n",
    "invG = Ham.Sk(format=\"array\") * En - Ham.Hk(format=\"array\")\n",
    "\n",
    "if(UseBulk):\n",
    "    HamL.set_nsc([None, None, 1])\n",
    "    HamR.set_nsc([None, None, 1])\n",
    "    invG[iL, iL] = HamL.Sk(format=\"array\") * En - HamL.Hk(format=\"array\") - SFEL\n",
    "    invG[iR, iR] = HamR.Sk(format=\"array\") * En - HamR.Hk(format=\"array\") - SFER\n",
    "else:\n",
    "    invG[iL, iL] -= SFEL\n",
    "    invG[iR, iR] -= SFER\n",
    "\n",
    "G = np.linalg.inv(invG)"
   ]
  },
  {
   "cell_type": "markdown",
   "metadata": {},
   "source": [
    "Left (${\\bf A}_L$) and Right (${\\bf A}_R$) spectral functions"
   ]
  },
  {
   "cell_type": "code",
   "execution_count": null,
   "metadata": {},
   "outputs": [],
   "source": [
    "AL = G[:, iL] @ GamL @ (G[:, iL]).T.conj()\n",
    "AR = G[:, iR] @ GamR @ (G[:, iR]).T.conj()"
   ]
  },
  {
   "cell_type": "markdown",
   "metadata": {},
   "source": [
    "Calculate transmission"
   ]
  },
  {
   "cell_type": "code",
   "execution_count": null,
   "metadata": {},
   "outputs": [],
   "source": [
    "Transmission = np.trace(AR[:, iL] @ GamL).real\n",
    "print(Transmission)"
   ]
  },
  {
   "cell_type": "markdown",
   "metadata": {},
   "source": [
    "Diagonalize  ${\\bf A}_L$ and ${\\bf A}_R$ to get the basis of left/right scattering states in the device region.\n",
    "\n",
    "Note that we only pick those with a non-negligble DOS in the device region and that the dimension of the device region is $\\le$ than the number of scattering states. We will in general have a different number of left and right scattering states."
   ]
  },
  {
   "cell_type": "code",
   "execution_count": null,
   "metadata": {},
   "outputs": [],
   "source": [
    "dos_tolerance = 0.00001\n",
    "eig, vec = np.linalg.eigh(AL)\n",
    "aeigL = eig[eig > dos_tolerance]\n",
    "avecL = vec[:, eig > dos_tolerance]\n",
    "avecLnorm = np.sqrt(aeigL / (2 * np.pi))[np.newaxis, :] * avecL\n",
    "\n",
    "eig, vec = np.linalg.eigh(AR)\n",
    "aeigR = eig[eig > dos_tolerance]\n",
    "avecR = vec[:, eig > dos_tolerance]\n",
    "avecRnorm = np.sqrt(aeigR / (2 * np.pi))[np.newaxis, :] * avecR"
   ]
  },
  {
   "cell_type": "markdown",
   "metadata": {},
   "source": [
    "## 2. Left-to-Right eigenchannels ##"
   ]
  },
  {
   "cell_type": "code",
   "execution_count": null,
   "metadata": {},
   "outputs": [],
   "source": [
    "T_RL = 2 * np.pi * avecLnorm[iR, :].T.conj() @ GamR @ avecLnorm[iR, :] # Transmission matrix\n",
    "T_RLeig, T_RLvec = np.linalg.eigh(T_RL)\n",
    "T_RLeig, T_RLvec = T_RLeig[::-1], T_RLvec[:, ::-1] \n",
    "Psi_RL =  avecLnorm @ T_RLvec"
   ]
  },
  {
   "cell_type": "markdown",
   "metadata": {},
   "source": [
    "Eigenchannel transmissions, $\\tau_n$"
   ]
  },
  {
   "cell_type": "code",
   "execution_count": null,
   "metadata": {},
   "outputs": [],
   "source": [
    "T_RLeig[0:4]"
   ]
  },
  {
   "cell_type": "markdown",
   "metadata": {},
   "source": [
    "Generate channels, $\\Psi_n$, on a real-space grid"
   ]
  },
  {
   "cell_type": "code",
   "execution_count": null,
   "metadata": {},
   "outputs": [],
   "source": [
    "maxeig = 3 # just plot the first two channels\n",
    "CenterCell = np.sum(sc.cell, axis=0) / 2\n",
    "CenterCell[2] = 0\n",
    "\n",
    "for ieig in range(maxeig):\n",
    "    wf = Psi_RL[:, ieig]\n",
    "    # we scale the max amplitude to 1 and choose the phase:\n",
    "    max_amp = -1.0\n",
    "    phase = 1.0 + 0.0j\n",
    "    for y in wf:\n",
    "        if abs(y) > max_amp:\n",
    "            max_amp = abs(y)\n",
    "            phase = y / max_amp\n",
    "    wf /= phase\n",
    "    grid = sisl.Grid(0.2, sc=sc, bc=0, dtype=np.complex128, geometry=Ham.geometry.move(CenterCell))\n",
    "    sisl.physics.electron.wavefunction(wf, grid=grid, eta=True)\n",
    "    grid.write(f\"EC_{ieig}_Re.cube\", imag=False)\n",
    "    grid.write(f\"EC_{ieig}_Im.cube\", imag=True)    "
   ]
  },
  {
   "cell_type": "code",
   "execution_count": null,
   "metadata": {},
   "outputs": [],
   "source": [
    "cubes = glob.glob(\"*Re.cube\")\n",
    "cubes.sort()\n",
    "for cube in cubes:\n",
    "    PlotCube([cube, cube.replace(\"Re\", \"Im\")], 0.02, zoom=3)"
   ]
  },
  {
   "cell_type": "markdown",
   "metadata": {},
   "source": [
    "We can also compare with the corresponding states computed with the original `EigenChannels` script:"
   ]
  },
  {
   "cell_type": "code",
   "execution_count": null,
   "metadata": {},
   "outputs": [],
   "source": [
    "cubes = glob.glob(\"../IN_01/ECrun/*Re.cube\")\n",
    "cubes.sort()\n",
    "for cube in cubes:\n",
    "    PlotCube([cube, cube.replace(\"Re\", \"Im\")], 0.005, zoom=3)"
   ]
  },
  {
   "cell_type": "markdown",
   "metadata": {},
   "source": [
    "## Exercise ##\n",
    "\n",
    "* Try to generate the Right-to-Left eigenchannels, i.e., the electron waves incoming from the right electrode: Note how they differ from the Left-to-Right eigenchannels."
   ]
  }
 ],
 "metadata": {
  "kernelspec": {
   "display_name": "Python 3",
   "language": "python",
   "name": "python3"
  },
  "language_info": {
   "codemirror_mode": {
    "name": "ipython",
    "version": 3
   },
   "file_extension": ".py",
   "mimetype": "text/x-python",
   "name": "python",
   "nbconvert_exporter": "python",
   "pygments_lexer": "ipython3",
   "version": "3.8.5"
  }
 },
 "nbformat": 4,
 "nbformat_minor": 4
}
