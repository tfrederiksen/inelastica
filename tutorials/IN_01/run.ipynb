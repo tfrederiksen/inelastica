{
 "cells": [
  {
   "cell_type": "code",
   "execution_count": null,
   "metadata": {},
   "outputs": [],
   "source": [
    "import sisl\n",
    "import matplotlib.pyplot as plt\n",
    "import netCDF4 as nc4\n",
    "%matplotlib inline"
   ]
  },
  {
   "cell_type": "markdown",
   "metadata": {},
   "source": [
    "# 0. Preparations #\n",
    "In this notebook we will use the package `py3Dmol` for neat visualizations within the notebook. If you do not have it installed, you can get it with this commands:\n",
    "```\n",
    "conda install -c conda-forge py3dmol\n",
    "```\n",
    "or \n",
    "```\n",
    "pip3 install py3Dmol\n",
    "```\n",
    "The following wrapper functions will be used."
   ]
  },
  {
   "cell_type": "code",
   "execution_count": null,
   "metadata": {},
   "outputs": [],
   "source": [
    "import py3Dmol\n",
    "\n",
    "def SetView(xyzview, rotation, zoom):\n",
    "    xyzview.setStyle({'sphere': {'colorscheme': 'Jmol', 'scale': 0.3},\n",
    "                      'stick': {'colorscheme': 'Jmol', 'radius': 0.2}})\n",
    "    xyzview.rotate(rotation)\n",
    "    xyzview.zoomTo()\n",
    "    xyzview.zoom(zoom)\n",
    "    xyzview.show()\n",
    "\n",
    "def PlotXYZ(xyzfile, width=800, height=200, rotation=90, zoom=1):\n",
    "    xyzstr = open(xyzfile, 'r').read()\n",
    "    xyzview = py3Dmol.view(width=width, height=height)\n",
    "    xyzview.addModel(xyzstr, 'xyz')\n",
    "    SetView(xyzview, rotation, zoom)\n",
    "\n",
    "def PlotCube(cubefiles, isoval, width=800, height=200, rotation=90, zoom=1):\n",
    "    if not isinstance(cubefiles, list):\n",
    "        cubefiles = [cubefiles]\n",
    "    geom = sisl.get_sile(cubefiles[0]).read_geometry()\n",
    "    geom.write('tmp.xyz')\n",
    "    xyzstr = open('tmp.xyz', 'r').read()\n",
    "    xyzview = py3Dmol.view(width=width, height=height)\n",
    "    xyzview.addModel(xyzstr, 'xyz')\n",
    "    color = [\"red\", \"blue\", \"green\", \"yellow\"]\n",
    "    for i, cube in enumerate(cubefiles):\n",
    "        voldata = 'some line which is needed' + open(cube, 'r').read()\n",
    "        xyzview.addVolumetricData(voldata, 'cube', \n",
    "                                  {'isoval': -isoval, 'color': color[2 * i % len(color)], 'opacity': 0.8})\n",
    "        xyzview.addVolumetricData(voldata, 'cube',\n",
    "                                  {'isoval': isoval, 'color': color[(2 * i + 1) % len(color)], 'opacity': 0.8})\n",
    "    SetView(xyzview, rotation, zoom)\n",
    "    \n",
    "def PlotVibMode(ncfile, modeindex, scale, width=800, height=200, rotation=90, zoom=1):\n",
    "    PH = nc4.Dataset(ncfile, 'r')\n",
    "    dxyz = PH.variables['U'][modeindex]\n",
    "    fxyz = ncfile.replace('.nc', '.xyz')\n",
    "    geom = sisl.get_sile(fxyz).read_geometry()\n",
    "    gplus = geom.copy()\n",
    "    gplus.xyz += scale * dxyz\n",
    "    gminus = geom.copy()\n",
    "    gminus.xyz += -scale * dxyz\n",
    "    geom = gplus.add(gminus)\n",
    "    geom.write('tmp.xyz')\n",
    "    xyzview = py3Dmol.view(width=width, height=height)\n",
    "    xyzview.addModel(open('tmp.xyz', 'r').read(), 'xyz')\n",
    "    SetView(xyzview, rotation, zoom)"
   ]
  },
  {
   "cell_type": "markdown",
   "metadata": {},
   "source": [
    "# 1. Introduction #\n",
    "\n",
    "In this tutorial we will showcase some of the features of [`Inelastica`](https://github.com/tfrederiksen/inelastica/), using a simple model to discuss tunneling through a CO molecule adsorbed on Cu.\n",
    "\n",
    "On real Cu surfaces CO is known to adsorb on the top site in an upright configuration with the C atom towards the surface.\n",
    "\n",
    "This is the general setup we will work with:\n",
    "\n",
    "<img src=\"setup.png\">\n",
    "\n",
    "The 1D Cu electrodes are characterized by the lattice constant *a*. The electrodes are defined as 4-atom blocks of the chains to avoid coupling next-nearest layer coupling between the principal layers. The separation between \"substrate\" (left electrode) and \"STM tip\" (right electrode) is defined as *L*.\n",
    "\n",
    "In the following, we will use [`sisl`](https://github.com/zerothi/sisl/) to construct geometries and [`siesta`](https://gitlab.com/siesta-project/siesta/) to relax geometries and determine the electronic Hamiltonian from DFT with finite differences.\n",
    "\n",
    "Finally, we will use different scripts from `Inelastica` to compute core physical properties\n",
    "* vibrational modes and energies with `Phonons`\n",
    "* eigenchannel scattering states with `EigenChannels`\n",
    "* inelastic transport characteristics (IETS spectra) with `Inelastica`"
   ]
  },
  {
   "cell_type": "markdown",
   "metadata": {},
   "source": [
    "# 2. SIESTA calculations #\n",
    "\n",
    "## Molecule ##\n",
    "Let us begin with understanding the molecular states of the CO molecule:"
   ]
  },
  {
   "cell_type": "code",
   "execution_count": null,
   "metadata": {},
   "outputs": [],
   "source": [
    "folder = 'CO'\n",
    "C = sisl.Atom('C', tag='C.mpn')\n",
    "O = sisl.Atom('O', tag='O.mpn')\n",
    "# CO molecule\n",
    "sc = sisl.SuperCell([6, 6, 6], nsc=[1, 1, 1])\n",
    "CO = sisl.Geometry([[3, 3, 3], [3, 3, 4.23]], atoms=[C, O], sc=sc)\n",
    "CO.write(f'{folder}/STRUCT.fdf')\n",
    "fxyz = f'{folder}/STRUCT.xyz'\n",
    "CO.write(fxyz)\n",
    "PlotXYZ(fxyz)\n",
    "#!cd {folder} && siesta RUN.fdf |tee RUN.out"
   ]
  },
  {
   "cell_type": "markdown",
   "metadata": {},
   "source": [
    "Note that geometries are stored in files conventionally named `STRUCT.fdf`. They are included in the main `siesta` input file (conventionally named `RUN.fdf`).\n",
    "\n",
    "Let us use `sisl` to understand the character of the frontier orbitals:"
   ]
  },
  {
   "cell_type": "code",
   "execution_count": null,
   "metadata": {},
   "outputs": [],
   "source": [
    "H = sisl.get_sile(f'{folder}/RUN.fdf').read_hamiltonian()\n",
    "es = H.eigenstate() # compute orbitals\n",
    "print(es.eig) # print energy levels\n",
    "g = sisl.Grid(0.2, sc=sc) # construct real-space grid\n",
    "es.sub(n).wavefunction(g) # project orbital to grid\n",
    "fcube = f'{folder}/wavefunction.cube'\n",
    "g.write(fcube) # write wave function to cube file\n",
    "PlotCube(fcube, isoval=0.1, zoom=3)"
   ]
  },
  {
   "cell_type": "markdown",
   "metadata": {},
   "source": [
    "**Questions:**\n",
    "* Classify the first 7 molecular orbitals according to the symmetry wrt. the bond axis (sigma- vs pi-type)."
   ]
  },
  {
   "cell_type": "markdown",
   "metadata": {},
   "source": [
    "## Electrodes ##\n",
    "\n",
    "To keep things as computationally light as possible, we consider the CO molecule between one-dimensional Cu chains as described above.\n",
    "\n",
    "Let us next look at the electronic structure of the 1D electrodes."
   ]
  },
  {
   "cell_type": "code",
   "execution_count": null,
   "metadata": {},
   "outputs": [],
   "source": [
    "a = 2.56 # Cu lattice constant\n",
    "s = 7.00 # transverse cell separation\n",
    "Cu = sisl.Atom('Cu', tag='Cu.mpn')\n",
    "folder = 'PRIM' # primitive cell of the electrode\n",
    "sc = sisl.SuperCell([s, s, a], nsc=[1, 1, 3])\n",
    "elec = sisl.Geometry([0, 0, 0], atoms=Cu, sc=sc)\n",
    "elec.write(f'{folder}/STRUCT.fdf')\n",
    "#!cd {folder} && siesta RUN.fdf |tee RUN.out"
   ]
  },
  {
   "cell_type": "markdown",
   "metadata": {},
   "source": [
    "We can readily look at the electronic bands with `sisl`"
   ]
  },
  {
   "cell_type": "code",
   "execution_count": null,
   "metadata": {},
   "outputs": [],
   "source": [
    "H = sisl.get_sile(f'{folder}/<TSHS-file>').read_hamiltonian()\n",
    "band = sisl.BandStructure(H, [[0., 0., 0.], [0, 0, 0.5]], 101, [r'\\Gamma', 'Z'])\n",
    "eigs = band.apply.array.eigh()\n",
    "lk = band.lineark()\n",
    "plt.plot(lk, eigs, 'b');\n",
    "plt.xlabel('Gamma-Z'); \n",
    "plt.ylabel('$E-E_F$ (eV)');\n",
    "plt.ylim(-3, 6);"
   ]
  },
  {
   "cell_type": "markdown",
   "metadata": {},
   "source": [
    "**Questions:**\n",
    "* What is the symmetry character of the bands?\n",
    "* What controls their alignment and band width relative to the Fermi energy?\n",
    "* How does this band structure compare with a 3D Cu crystal?"
   ]
  },
  {
   "cell_type": "markdown",
   "metadata": {},
   "source": [
    "## Geometry relaxation of device region ##\n",
    "\n",
    "Next we build the central device region consisting of left electrode, CO molecule, and right electrode. Conventionally we call the geometry relaxation step to determine the device geometry `CGrun` (but this is just a name). Note that we here choose periodic boundary conditions and use a standard `MD.TypeOfRun CG` with `siesta` to relax the CO coordinates (keeping all Cu atoms frozen):"
   ]
  },
  {
   "cell_type": "code",
   "execution_count": null,
   "metadata": {},
   "outputs": [],
   "source": [
    "folder = 'CGrun'\n",
    "L = 4.00 # electrode separation\n",
    "left = elec.tile(6, axis=2)\n",
    "sc = sisl.SuperCell([s, s, L])\n",
    "CO = sisl.Geometry([[0, 0, -0.6503], [0, 0, 0.5853]], atoms=[C, O], sc=sc) \n",
    "device = left.append(CO, axis=2).append(left, axis=2)\n",
    "device.write(f'{folder}/STRUCT.fdf')\n",
    "fxyz = f'{folder}/STRUCT.xyz'\n",
    "device.write(fxyz)\n",
    "PlotXYZ(fxyz, zoom=3)\n",
    "#!cd {folder} && siesta RUN.fdf |tee RUN.out"
   ]
  },
  {
   "cell_type": "markdown",
   "metadata": {},
   "source": [
    "**Questions:**\n",
    "* What is the CO bond length in this setup?\n",
    "* What are the residual forces on the C, O and surface Cu atoms?"
   ]
  },
  {
   "cell_type": "markdown",
   "metadata": {},
   "source": [
    "## Finite displacements run ##\n",
    "\n",
    "To determine the dynamical properties of the CO molecule (normal modes and vibrational energies), as well as the electron-phonon couplings (EPC), we use finite displacements along the cartesian axes for a selected set of **dynamical atoms** within the device. In our case we consider just the motion of CO (atom indices 7 and 8 in the device, `siesta` counting).\n",
    "\n",
    "`Inelastica` comes with a script (called `setupFCrun`) to prepare a finite-difference run `FCrun` for `siesta` based on the input parameters and geometry from the relaxation `CGrun` above:"
   ]
  },
  {
   "cell_type": "code",
   "execution_count": null,
   "metadata": {},
   "outputs": [],
   "source": [
    "folder = 'FCrun'\n",
    "#!setupFCrun --FCfirst 7 --FClast 8 CGrun {folder}\n",
    "#!cd {folder} && siesta RUN.fdf |tee RUN.out"
   ]
  },
  {
   "cell_type": "markdown",
   "metadata": {},
   "source": [
    "**Questions:**\n",
    "* Look at the `siesta` input file `RUN.fdf`: The `setupFCrun` script has prepended lines to this file. What do they mean?\n",
    "* Which `.TSHS` files were generated in the `siesta` run?\n",
    "* What is contained in the `*.FC` output file?\n",
    "* The finite displacement runs over atoms is inherently parallel. Try to split the above calculations into two separate runs, say `FCrun_7` for `atom 7` and `FCrun_8` for `atom 8`\n",
    "\n",
    "**Help:**\n",
    "* Try `setupFCrun -h`"
   ]
  },
  {
   "cell_type": "markdown",
   "metadata": {},
   "source": [
    "In order to compute EPCs with an atom-centered, non-orthogonal LCAO basis, one needs to correct for the fact that the overlap matrix changes between the configurations mapped out during the finite-difference `FCrun`. Therefore, if the EPCs are to be computed, `Inelastica` expects to find also an overlap `OSrun` folder providing the necessary info via some separate `siesta` calculations. Again, `Inelastica` comes with a script (called `setupOSrun`) to prepare the input files: "
   ]
  },
  {
   "cell_type": "code",
   "execution_count": null,
   "metadata": {},
   "outputs": [],
   "source": [
    "folder = 'OSrun'\n",
    "#!setupOSrun CGrun {folder}\n",
    "for i in range(1, 7):\n",
    "    print(f'Doing run {i}/6')\n",
    "    #!cd {folder} && siesta RUN_{i}.fdf |tee RUN_{i}.out\n",
    "    "
   ]
  },
  {
   "cell_type": "markdown",
   "metadata": {},
   "source": [
    "**Questions:**\n",
    "* The `setupOSrun` has generated six input files (RUN_i.fdf) and structures (STRUCT_i.fdf). What are the differences between these setups?\n",
    "* Why are these calculations extremely fast compared to a normal SIESTA run?\n",
    "\n",
    "\n",
    "**Help:**\n",
    "* Try `setupOSrun -h`"
   ]
  },
  {
   "cell_type": "markdown",
   "metadata": {},
   "source": [
    "# 3. Transport calculation (TranSIESTA/TBTRANS) #\n",
    "\n",
    "In the `CGrun` folder above we relaxed the geometry using periodic boundary conditions. We will now use this exact geometry but extend it for a device region with a **single** molecule between semi-infinite electrodes. In other words, set up the inputs required for a TranSIESTA run (eg. to compute the transmission function with `tbtrans`):\n",
    "\n",
    "First, we define the electrode block as a 4-atom repetitions of the primitive cell. This is to eliminate interactions between nearest-neighbor cells only:"
   ]
  },
  {
   "cell_type": "code",
   "execution_count": null,
   "metadata": {},
   "outputs": [],
   "source": [
    "# transiesta cell for both electrodes\n",
    "n = 4 # atoms in electrode block\n",
    "folder = 'ELEC'\n",
    "elec.tile(n, axis=2).write(f'{folder}/STRUCT.fdf')\n",
    "!cd {folder} && siesta RUN.fdf |tee RUN.out"
   ]
  },
  {
   "cell_type": "code",
   "execution_count": null,
   "metadata": {},
   "outputs": [],
   "source": [
    "folder = 'TSrun'\n",
    "# read the relaxed structure:\n",
    "device = sisl.get_sile('<path-to-device.XV>').read_geometry()\n",
    "device.write(f'{folder}/STRUCT.fdf')\n",
    "!cd {folder} && siesta RUN.fdf |tee RUN.out\n",
    "!cd {folder} && tbtrans RUN.fdf |tee RUN.TBT.out"
   ]
  },
  {
   "cell_type": "markdown",
   "metadata": {},
   "source": [
    "Let us visualize the transmission function from `tbtrans`:"
   ]
  },
  {
   "cell_type": "code",
   "execution_count": null,
   "metadata": {},
   "outputs": [],
   "source": [
    "tbt = sisl.get_sile(f'{folder}/<TBT.nc>')\n",
    "plt.plot(tbt.E, tbt.transmission(), 'o');\n",
    "plt.plot(tbt.E, tbt.transmission_eig(), '.');\n",
    "plt.xlabel('$E - E_F$ (eV)'); plt.ylabel('Transmission T(E)');"
   ]
  },
  {
   "cell_type": "markdown",
   "metadata": {},
   "source": [
    "**Questions:**\n",
    "* What is the tunneling probability of electrons near the Fermi level in our setup?\n",
    "* Can some features in the calculated transmission be related to the electrode band structure?"
   ]
  },
  {
   "cell_type": "markdown",
   "metadata": {},
   "source": [
    "# 4. Inelastica #\n",
    "\n",
    "## EigenChannels ##\n",
    "\n",
    "Before discussing vibrations and inelastic effects, let us first understand the scattering states in our system. These can be computed with the `EigenChannels` script:"
   ]
  },
  {
   "cell_type": "code",
   "execution_count": null,
   "metadata": {},
   "outputs": [],
   "source": [
    "folder = 'ECrun'\n",
    "!EigenChannels -F 1 -L 14 -f TSrun/RUN.fdf -e -0.13 -n 3 -w cube {folder}"
   ]
  },
  {
   "cell_type": "markdown",
   "metadata": {},
   "source": [
    "We can now visualize the scattering states by reading the cube files with the real and imaginary parts of the scatering wave functions:"
   ]
  },
  {
   "cell_type": "code",
   "execution_count": null,
   "metadata": {},
   "outputs": [],
   "source": [
    "state = 'device.EC.<something>'\n",
    "PlotCube([f'{folder}/{state}.Re.cube', f'{folder}/{state}.Im.cube'], 0.002, zoom=3)"
   ]
  },
  {
   "cell_type": "markdown",
   "metadata": {},
   "source": [
    "## **Questions:**\n",
    "* What are the meanings of the `-e -0.13` and `-n 3` flags to `EigenChannels`?\n",
    "* What are the symmetries of the three dominant scattering states?\n",
    "* What scattering states are, strictly speaking, available for transport at the Fermi level in this model system?\n",
    "\n",
    "\n",
    "**Help:**\n",
    "* Try `EigenChannels -h`"
   ]
  },
  {
   "cell_type": "markdown",
   "metadata": {},
   "source": [
    "## Calculation of vibrational modes, energies, and EPC ##\n",
    "\n",
    "We are now ready to look at the vibrational modes. Again, `Inelastica` has a script (called `Phonons`) to analyze the data from the `FCrun*` and `OSrun` above to \n",
    "* construct the dynamical matrix **D**, \n",
    "* symmetrize and diagonalize **D** to obtain normal coordinates and mode energies,\n",
    "* collect the `.TSHS` files to compute the EPC corresponding to each normal coordinate\n",
    "\n",
    "The calculation proceeds as follows:"
   ]
  },
  {
   "cell_type": "code",
   "execution_count": null,
   "metadata": {},
   "outputs": [],
   "source": [
    "folder = 'PHrun'\n",
    "#!Phonons -c --FCfirst=7 --FClast=8 -F 5 -L 10 --FCwildcard=FCrun {folder}"
   ]
  },
  {
   "cell_type": "markdown",
   "metadata": {},
   "source": [
    "**Questions:**\n",
    "* Look at the log file from the run. What has been computed?\n",
    "* What changes if one excludes the `-c` flag from the call?\n",
    "* What are the meanings of the other flags above?\n",
    "* Try to do another calculation (say directed to a different output directory `PHrun_2`) where data from the two parallelized directories `FCrun_*` are used instead.\n",
    "\n",
    "**Help:**\n",
    "* Try `Phonons -h`\n",
    "\n",
    "The `Phonons` script writes several files, among them basically all derived quantities to a file in the netCDF4 format. Let us use this file to plot the vibrational energies:"
   ]
  },
  {
   "cell_type": "code",
   "execution_count": null,
   "metadata": {},
   "outputs": [],
   "source": [
    "PH = nc4.Dataset(f'{folder}/<Output.nc>', 'r');\n",
    "hw = PH.variables['hw'][:];\n",
    "plt.plot(hw, 'o-');\n",
    "plt.xlabel('Mode index');\n",
    "plt.ylabel('Mode energy (eV)');"
   ]
  },
  {
   "cell_type": "markdown",
   "metadata": {},
   "source": [
    "**Questions:**\n",
    "* Why are there 6 modes?\n",
    "* What is the meaning of negative mode energies?\n",
    "\n",
    "Explore the different normal modes with the visualizer. The function `PlotVibMode` defined above shows the geometry displaced along the normal coordinate (both forward and backward directions):"
   ]
  },
  {
   "cell_type": "code",
   "execution_count": null,
   "metadata": {},
   "outputs": [],
   "source": [
    "PlotVibMode(f'{folder}/<Output.nc>', modeindex=3, scale=1, zoom=3)"
   ]
  },
  {
   "cell_type": "markdown",
   "metadata": {},
   "source": [
    "We can also develop an understanding of the different modes without a 3D visualizer, by reading the normal coordinate matrix of displacement amplitudes. The format is `(mode_index, atom_index)`: "
   ]
  },
  {
   "cell_type": "code",
   "execution_count": null,
   "metadata": {},
   "outputs": [],
   "source": [
    "mode = 0\n",
    "dx, dy, dz = PH.variables['U'][mode].T\n",
    "plt.plot(dx, 'o', label='dx');\n",
    "plt.plot(dy, 'o', label='dy');\n",
    "plt.plot(dz, 'o', label='dz');\n",
    "plt.legend()\n",
    "plt.title(f'Normal mode = {mode}');\n",
    "plt.xlabel('Atom index');\n",
    "plt.ylabel('Displacement amplitude');"
   ]
  },
  {
   "cell_type": "markdown",
   "metadata": {},
   "source": [
    "**Questions:**\n",
    "* Which modes are longitudinal with respect to the system axis?\n",
    "* Which ones are transversal?\n",
    "* Which pairs of modes are degenerate? And why?\n",
    "* The conventional naming of the modes are CO stretch, CO center-of-mass motion, and frustrated/hindered translation and rotations. Can you establish the links?"
   ]
  },
  {
   "cell_type": "markdown",
   "metadata": {},
   "source": [
    "## Calculation of IETS spectrum ##\n",
    "With the complete `transiesta` setup and the computed EPCs we can proceed to compute the inelastic transport characteristics with `Inelastica` (both the package name and the name of the script that computes I-V curves etc)."
   ]
  },
  {
   "cell_type": "code",
   "execution_count": null,
   "metadata": {},
   "outputs": [],
   "source": [
    "folder = 'INrun'\n",
    "#!Inelastica -p PHrun/<Output.nc> -f TSrun/RUN.fdf -F 5 -L 10 {folder}"
   ]
  },
  {
   "cell_type": "markdown",
   "metadata": {},
   "source": [
    "The main data file from `Inelastica` is written to a single `netCDF` file, from which we can plot various results:"
   ]
  },
  {
   "cell_type": "code",
   "execution_count": null,
   "metadata": {},
   "outputs": [],
   "source": [
    "IN = nc4.Dataset(f'{folder}/<Output.nc>', 'r')\n",
    "V = IN.variables['V'][:] # read voltage grid\n",
    "I = IN.variables['I'][:] # read current for voltage grid\n",
    "dI = IN.variables['dI'][:] # first derivative wrt V\n",
    "ddI = IN.variables['ddI'][:] # second derivative wrt V\n",
    "plt.plot(V, I, label=r'$I(V)$');\n",
    "plt.plot(V, dI, label=r'$dI/dV$');\n",
    "plt.plot(V, ddI, label=r'$d^2I/dV^2$');\n",
    "plt.legend()\n",
    "plt.xlabel('Bias voltage (V)');"
   ]
  },
  {
   "cell_type": "markdown",
   "metadata": {},
   "source": [
    "Since the inelastic signals are often very small, it is conventional to plot the so-called IETS signal, defined as the second derivative normalized to the first, i.e., `IETS = (ddI/dI)`:"
   ]
  },
  {
   "cell_type": "code",
   "execution_count": null,
   "metadata": {},
   "outputs": [],
   "source": [
    "IETS = IN.variables['IETS'][:]\n",
    "plt.plot(V, IETS);\n",
    "plt.plot(hw, 0 * hw, 'o');\n",
    "plt.xlabel('Bias voltage (V)');\n",
    "plt.ylabel('IETS (1/V)');"
   ]
  },
  {
   "cell_type": "markdown",
   "metadata": {},
   "source": [
    "**Questions:**\n",
    "* Which modes are predicted to be vibrationally active in this setup?\n",
    "* How are imaginary modes handled in `Inelastica`?\n",
    "\n",
    "**Help:**\n",
    "* Try `Inelastica -h`"
   ]
  },
  {
   "cell_type": "markdown",
   "metadata": {},
   "source": [
    "## IETS signals from transverse modes ## \n",
    "In reality, STM-IETS on CO on a Cu surface with a metal tip shows that the frustrated translation (FT) and frustrated rotation (FR) modes are the most IETS active. This is due to the frontier orbitals that are dominated by the molecular \\pi-states (rotationally odd symmmetry with respect to the transport axis). However, in our simple model we only have the \\sigma-type state available (rotationally symmetric) at the Fermi energy.\n",
    "\n",
    "A simple, qualitative \"hack\" to approach a more realistic description of IETS of CO, we can shift the Fermi down into the _d_-band region. The position of the Fermi level can be shifted by hand in the `Inelastica` call. Let us try this as follows:"
   ]
  },
  {
   "cell_type": "code",
   "execution_count": null,
   "metadata": {},
   "outputs": [],
   "source": [
    "folder = 'INrun_shift'\n",
    "energy = -0.13\n",
    "Vmax = 0.050\n",
    "Vrms = 0.001\n",
    "#!Inelastica -p PHrun/Output.nc -f TSrun/RUN.fdf -F 5 -L 10 -e {energy} -V {Vrms} -v {Vmax} {folder}"
   ]
  },
  {
   "cell_type": "code",
   "execution_count": null,
   "metadata": {},
   "outputs": [],
   "source": [
    "IN = nc4.Dataset(f'{folder}/<Output.nc>', 'r')\n",
    "V = IN.variables['V'][:]\n",
    "IETS = IN.variables['IETS'][:]\n",
    "plt.plot(V, IETS);\n",
    "plt.xlabel('Bias voltage (V)');\n",
    "plt.ylabel('IETS (1/V)');"
   ]
  },
  {
   "cell_type": "markdown",
   "metadata": {},
   "source": [
    "**Questions:**\n",
    "* What are the meanings of the flags `-V` and `-v`? What happens if you change their values?\n",
    "* How does the electronic temperature affects the IETS? What is the default temperature in `Inelastica`?\n",
    "* Try to add the flag `-H` to the `Inelastica` call above. What does it do?"
   ]
  },
  {
   "cell_type": "markdown",
   "metadata": {},
   "source": [
    "# Further directions and possibilities #\n",
    "\n",
    "## Isotope shifts ##"
   ]
  },
  {
   "cell_type": "markdown",
   "metadata": {},
   "source": [
    "The vibrational modes of CO depends on the masses. By default, Inelastica assumes the atoms are the isotopes 12C and 16O. However, it is possible with Inelastica to specify different masses for the atoms: Here is an example where the masses of atom indices 6 and 7 are changed for 13C and 18O:"
   ]
  },
  {
   "cell_type": "code",
   "execution_count": null,
   "metadata": {},
   "outputs": [],
   "source": [
    "folder = 'PHrun_isotope'\n",
    "C13 = [6, 13.0]\n",
    "O18 = [7, 18.0]\n",
    "#!Phonons -c --FCfirst=7 --FClast=8 -F 5 -L 10 --Isotopes \"[{C13}, {O18}]\" {folder}"
   ]
  },
  {
   "cell_type": "markdown",
   "metadata": {},
   "source": [
    "Next, compute IETS with `Inelastica` for these new EPCs via the flag `-p <path-to-isotope-Output.nc>`."
   ]
  },
  {
   "cell_type": "markdown",
   "metadata": {},
   "source": [
    "## Geometric effects in IETS ##\n",
    "\n",
    "Play around with different device geometries and see how the IETS of a CO changes. These are some possible ideas:\n",
    "* Move the tip away from the symmetry axis. The symmetry lowering removes constraints for possible vibrational transitions. Is this reflected in the IETS?\n",
    "* The `-H` flag enables vibrational heating, which in turn depends on the magnitude of the (elastic) current. Try to bring the electrodes closer to each other to enhance the heating."
   ]
  },
  {
   "cell_type": "markdown",
   "metadata": {},
   "source": [
    "## Bloch's theorem and k-sampling of IETS ##\n",
    "\n",
    "* Construct a setup with 2D or 3D Cu electrodes. Now, in principle a sampling of the (transverse) Brillouin zone is required (just for the electronic part, assuming we can still restrict CO vibrations to the Gamma point, ie. decoupled molecues). This can be achieved through (1) carrying out a loop over a `k`-points to compute EPCs and associated k-resolved IETS, before (2) performing the BZ average (see Inelastica script `kaverage-IETS`). Note that `Inelastica` is currently limited to transport setups oriented along the third lattice vector `a3`. The periodic directions thus need to be `a1` and/or `a2`."
   ]
  }
 ],
 "metadata": {
  "kernelspec": {
   "display_name": "Python 3",
   "language": "python",
   "name": "python3"
  },
  "language_info": {
   "codemirror_mode": {
    "name": "ipython",
    "version": 3
   },
   "file_extension": ".py",
   "mimetype": "text/x-python",
   "name": "python",
   "nbconvert_exporter": "python",
   "pygments_lexer": "ipython3",
   "version": "3.8.5"
  }
 },
 "nbformat": 4,
 "nbformat_minor": 4
}
